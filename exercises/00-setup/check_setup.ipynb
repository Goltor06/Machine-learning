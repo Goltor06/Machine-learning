{
 "cells": [
  {
   "cell_type": "markdown",
   "id": "noble-opportunity",
   "metadata": {},
   "source": [
    "# Check setup"
   ]
  },
  {
   "cell_type": "markdown",
   "id": "sunset-season",
   "metadata": {},
   "source": [
    "This small notebook checks if your environment is correctly set up.\n",
    "\n",
    "It is also the default notebook which opens when you git-pull the introML-2024 repository directly to Noto."
   ]
  },
  {
   "cell_type": "code",
   "execution_count": 1,
   "id": "pacific-specification",
   "metadata": {},
   "outputs": [
    {
     "name": "stdout",
     "output_type": "stream",
     "text": [
      "Python path: /Library/Frameworks/Python.framework/Versions/3.10/bin/python3.10\n"
     ]
    }
   ],
   "source": [
    "import sys\n",
    "print(f'Python path: {sys.executable}')\n",
    "# If you are running this notebook locally (not on Noto), the path should have \"introml\" in it"
   ]
  },
  {
   "cell_type": "markdown",
   "id": "independent-clearing",
   "metadata": {},
   "source": [
    "## 1. Packages"
   ]
  },
  {
   "cell_type": "markdown",
   "id": "fundamental-indianapolis",
   "metadata": {},
   "source": [
    "Let's check that all the necessary packages are installed by importing them."
   ]
  },
  {
   "cell_type": "code",
   "execution_count": 2,
   "id": "distant-flavor",
   "metadata": {},
   "outputs": [
    {
     "ename": "ModuleNotFoundError",
     "evalue": "No module named 'tqdm'",
     "output_type": "error",
     "traceback": [
      "\u001b[0;31m---------------------------------------------------------------------------\u001b[0m",
      "\u001b[0;31mModuleNotFoundError\u001b[0m                       Traceback (most recent call last)",
      "Input \u001b[0;32mIn [2]\u001b[0m, in \u001b[0;36m<module>\u001b[0;34m\u001b[0m\n\u001b[1;32m      7\u001b[0m \u001b[38;5;28;01mimport\u001b[39;00m \u001b[38;5;21;01msklearn\u001b[39;00m\n\u001b[1;32m      8\u001b[0m \u001b[38;5;28;01mimport\u001b[39;00m \u001b[38;5;21;01mipywidgets\u001b[39;00m \u001b[38;5;28;01mas\u001b[39;00m \u001b[38;5;21;01mwidgets\u001b[39;00m\n\u001b[0;32m----> 9\u001b[0m \u001b[38;5;28;01mimport\u001b[39;00m \u001b[38;5;21;01mtqdm\u001b[39;00m\n\u001b[1;32m     11\u001b[0m \u001b[38;5;28mprint\u001b[39m(\u001b[38;5;124m\"\u001b[39m\u001b[38;5;124mAll good for packages :)\u001b[39m\u001b[38;5;124m\"\u001b[39m)\n",
      "\u001b[0;31mModuleNotFoundError\u001b[0m: No module named 'tqdm'"
     ]
    }
   ],
   "source": [
    "import numpy as np\n",
    "import scipy\n",
    "import pandas as pd\n",
    "import matplotlib.pyplot as plt\n",
    "import seaborn as sns\n",
    "import plotly\n",
    "import sklearn\n",
    "import ipywidgets as widgets\n",
    "import tqdm\n",
    "\n",
    "print(\"All good for packages :)\")"
   ]
  },
  {
   "cell_type": "markdown",
   "id": "novel-webster",
   "metadata": {},
   "source": [
    "## 2. JupyterLab extensions"
   ]
  },
  {
   "cell_type": "markdown",
   "id": "cubic-bibliography",
   "metadata": {},
   "source": [
    "### 2.1. JupyterLab Plotly"
   ]
  },
  {
   "cell_type": "markdown",
   "id": "impossible-chile",
   "metadata": {},
   "source": [
    "Run the following cell. If a plot is displayed, then the JupyterLab Plotly extension is correctly installed."
   ]
  },
  {
   "cell_type": "code",
   "execution_count": null,
   "id": "swiss-casino",
   "metadata": {},
   "outputs": [],
   "source": [
    "import plotly.express as px\n",
    "df = px.data.iris()\n",
    "fig = px.scatter(df, x=\"sepal_length\", y=\"sepal_width\", color=\"species\",\n",
    "                title=\"This title and interactive plot should be displayed if the plotly extension is installed correctly\")\n",
    "fig.show()"
   ]
  },
  {
   "cell_type": "markdown",
   "id": "greatest-swedish",
   "metadata": {},
   "source": [
    "### 2.2. JupyterLab Table of Contents"
   ]
  },
  {
   "cell_type": "markdown",
   "id": "vulnerable-vampire",
   "metadata": {},
   "source": [
    "The Table of Contents extension automatically generates a Table of Contents for the currently open notebook. This can be very useful when navigating through the exercises. If it is installed, you should see the following icon (the one shown in the red box) in the left sidebar.\n",
    "\n",
    "<img src=\"images/toc_icon.png\" width=300/>\n",
    "\n",
    "Clicking on it should display a table of contents, like so:\n",
    "\n",
    "<img src=\"images/toc_view.png\" width=300/>"
   ]
  },
  {
   "cell_type": "markdown",
   "id": "pleasant-wings",
   "metadata": {},
   "source": [
    "If everything worked correctly so far, then your setup should be **all good** and you can use it for the exercises and graded homework."
   ]
  },
  {
   "cell_type": "code",
   "execution_count": null,
   "id": "2051bffc-30dc-4342-bb62-f5121ffc89c0",
   "metadata": {},
   "outputs": [],
   "source": []
  }
 ],
 "metadata": {
  "kernelspec": {
   "display_name": "Python 3 (ipykernel)",
   "language": "python",
   "name": "python3"
  },
  "language_info": {
   "codemirror_mode": {
    "name": "ipython",
    "version": 3
   },
   "file_extension": ".py",
   "mimetype": "text/x-python",
   "name": "python",
   "nbconvert_exporter": "python",
   "pygments_lexer": "ipython3",
   "version": "3.10.2"
  },
  "toc-showcode": false
 },
 "nbformat": 4,
 "nbformat_minor": 5
}
